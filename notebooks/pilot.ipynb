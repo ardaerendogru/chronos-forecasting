{
 "cells": [
  {
   "cell_type": "code",
   "execution_count": 3,
   "metadata": {},
   "outputs": [
    {
     "name": "stdout",
     "output_type": "stream",
     "text": [
      "2025-01-02 12:50:44,117 - /home/arda/Documents/chronos-forecasting/notebooks/../scripts/training/train.py - INFO - Using SEED: 3226887049\n",
      "2025-01-02 12:50:44,118 - /home/arda/Documents/chronos-forecasting/notebooks/../scripts/training/train.py - INFO - Logging dir: output/run-25\n",
      "2025-01-02 12:50:44,119 - /home/arda/Documents/chronos-forecasting/notebooks/../scripts/training/train.py - INFO - Loading and filtering 2 datasets for training: ['../data/tsmixup-data.arrow', '../data/kernelsynth-data.arrow']\n",
      "2025-01-02 12:50:44,119 - /home/arda/Documents/chronos-forecasting/notebooks/../scripts/training/train.py - INFO - Mixing probabilities: [0.9, 0.1]\n",
      "2025-01-02 12:50:44,120 - /home/arda/Documents/chronos-forecasting/notebooks/../scripts/training/train.py - INFO - Initializing model\n",
      "2025-01-02 12:50:44,120 - /home/arda/Documents/chronos-forecasting/notebooks/../scripts/training/train.py - INFO - Using random initialization\n",
      "2025-01-02 12:51:34,692 - /home/arda/Documents/chronos-forecasting/notebooks/../scripts/training/train.py - INFO - Model dtype: torch.float32\n",
      "2025-01-02 12:51:34,816 - /home/arda/Documents/chronos-forecasting/notebooks/../scripts/training/train.py - INFO - Training\n",
      "  0%|                                                | 0/200000 [00:00<?, ?it/s]Passing a tuple of `past_key_values` is deprecated and will be removed in Transformers v4.48.0. You should pass an instance of `EncoderDecoderCache` instead, e.g. `past_key_values=EncoderDecoderCache.from_legacy_cache(past_key_values)`.\n",
      "  0%|                                    | 241/200000 [00:57<5:55:08,  9.37it/s]^C\n"
     ]
    }
   ],
   "source": [
    "!python ../scripts/training/train.py --config ./config.yaml"
   ]
  },
  {
   "cell_type": "code",
   "execution_count": 9,
   "metadata": {},
   "outputs": [
    {
     "name": "stdout",
     "output_type": "stream",
     "text": [
      "2025-01-02 14:56:35,273 - /home/arda/Documents/chronos-forecasting/notebooks/../scripts/training/distillation.py - INFO - Using SEED: 3013831319\n",
      "2025-01-02 14:56:35,275 - /home/arda/Documents/chronos-forecasting/notebooks/../scripts/training/distillation.py - INFO - Initializing student model\n",
      "2025-01-02 14:56:35,275 - /home/arda/Documents/chronos-forecasting/scripts/training/train.py - INFO - Using random initialization\n",
      "2025-01-02 14:56:35,750 - /home/arda/Documents/chronos-forecasting/notebooks/../scripts/training/distillation.py - INFO - Loading teacher model\n",
      "2025-01-02 14:56:36,839 - /home/arda/Documents/chronos-forecasting/notebooks/../scripts/training/distillation.py - INFO - Loading datasets for training: ['../data/tsmixup-data.arrow', '../data/kernelsynth-data.arrow']\n",
      "2025-01-02 14:56:36,901 - /home/arda/Documents/chronos-forecasting/notebooks/../scripts/training/distillation.py - INFO - Starting distillation training\n",
      "  0%|                                                 | 0/10000 [00:00<?, ?it/s]"
     ]
    }
   ],
   "source": [
    "#run 26\n",
    "!python ../scripts/training/distillation.py --config ./distillation_copy.yaml"
   ]
  },
  {
   "cell_type": "code",
   "execution_count": null,
   "metadata": {},
   "outputs": [],
   "source": [
    "#run 27\n",
    "!python ../scripts/training/distillation.py --config ./distillation_copy_2.yaml"
   ]
  },
  {
   "cell_type": "code",
   "execution_count": null,
   "metadata": {},
   "outputs": [],
   "source": [
    "#run 28\n",
    "!python ../scripts/training/distillation.py --config ./distillation_copy_3.yaml"
   ]
  },
  {
   "cell_type": "code",
   "execution_count": null,
   "metadata": {},
   "outputs": [],
   "source": [
    "#run 29\n",
    "!python ../scripts/training/distillation.py --config ./distillation_copy_4.yaml"
   ]
  },
  {
   "cell_type": "code",
   "execution_count": null,
   "metadata": {},
   "outputs": [],
   "source": [
    "#25,25,25,25\n",
    "#6.432025-01-02 13:35:15,371 - /home/arda/Documents/chronos-forecasting/notebooks/../scripts/training/distillation.py - INFO - Using SEED: 2908350505\n",
    "2025-01-02 13:35:15,374 - /home/arda/Documents/chronos-forecasting/notebooks/../scripts/training/distillation.py - INFO - Initializing student model\n",
    "2025-01-02 13:35:15,374 - /home/arda/Documents/chronos-forecasting/scripts/training/train.py - INFO - Using random initialization\n",
    "2025-01-02 13:35:25,825 - /home/arda/Documents/chronos-forecasting/notebooks/../scripts/training/distillation.py - INFO - Loading teacher model\n",
    "2025-01-02 13:35:27,042 - /home/arda/Documents/chronos-forecasting/notebooks/../scripts/training/distillation.py - INFO - Loading datasets for training: ['../data/tsmixup-data.arrow', '../data/kernelsynth-data.arrow']\n",
    "2025-01-02 13:35:27,107 - /home/arda/Documents/chronos-forecasting/notebooks/../scripts/training/distillation.py - INFO - Starting distillation training\n",
    "  0%|                                                | 0/200000 [00:00<?, ?it/s]Passing a tuple of `past_key_values` is deprecated and will be removed in Transformers v4.48.0. You should pass an instance of `EncoderDecoderCache` instead, e.g. `past_key_values=EncoderDecoderCache.from_legacy_cache(past_key_values)`.\n",
    "{'loss': 1.4419, 'grad_norm': 0.03352462872862816, 'learning_rate': 0.0009975000000000001, 'epoch': 0.0}\n",
    "{'task_loss': 8.12545549655389, 'distill_loss/total': 1.9057842728620518, 'distill_loss/soft_targets': 8.224573270527426, 'distill_loss/encoder': 531.6070414103434, 'distill_loss/decoder': 51.32662558793546, 'loss/total': 1.4416191363762954, 'task_loss_normalized': 0.9774539945368281, 'epoch': 0.0}\n",
    "{'loss': 1.2013, 'grad_norm': 0.054386939853429794, 'learning_rate': 0.000995, 'epoch': 0.01}\n",
    "{'task_loss': 6.492522536277771, 'distill_loss/total': 1.620470454454422, 'distill_loss/soft_targets': 7.25017322063446, 'distill_loss/encoder': 448.8088217773437, 'distill_loss/decoder': 40.061281368255614, 'loss/total': 1.2007451550960542, 'task_loss_normalized': 0.7810198565721512, 'epoch': 0.01}\n",
    "{'loss': 1.0388, 'grad_norm': 0.05069885775446892, 'learning_rate': 0.0009925000000000001, 'epoch': 0.01}\n",
    "{'task_loss': 5.195456214904786, 'distill_loss/total': 1.4522645587921144, 'distill_loss/soft_targets': 6.301783344268799, 'distill_loss/encoder': 419.4083798828125, 'distill_loss/decoder': 36.77618450927734, 'loss/total': 1.0386267267465592, 'task_loss_normalized': 0.6249888916015625, 'epoch': 0.01}\n",
    "{'loss': 0.9647, 'grad_norm': 0.045989975333213806, 'learning_rate': 0.00099, 'epoch': 0.01}\n",
    "{'task_loss': 4.776278272628784, 'distill_loss/total': 1.3546030871868133, 'distill_loss/soft_targets': 5.8978560304641725, 'distill_loss/encoder': 391.7685941772461, 'distill_loss/decoder': 33.92393807220459, 'loss/total': 0.9645834243297577, 'task_loss_normalized': 0.5745637612938881, 'epoch': 0.01}\n",
    "  1%|▎                                 | 2147/200000 [26:48<40:23:05,  1.36it/s]"
   ]
  },
  {
   "cell_type": "code",
   "execution_count": null,
   "metadata": {},
   "outputs": [],
   "source": [
    "# 45,5,5,45\n",
    "#   0%|                                                | 0/200000 [00:00<?, ?it/s]Passing a tuple of `past_key_values` is deprecated and will be removed in Transformers v4.48.0. You should pass an instance of `EncoderDecoderCache` instead, e.g. `past_key_values=EncoderDecoderCache.from_legacy_cache(past_key_values)`.\n",
    "# {'loss': 0.8293, 'grad_norm': 0.011718730442225933, 'learning_rate': 0.0009975000000000001, 'epoch': 0.0}\n",
    "# {'task_loss': 6.885998911486414, 'distill_loss/total': 0.4563040388320496, 'distill_loss/soft_targets': 7.488892086013824, 'distill_loss/encoder': 538.9780364807494, 'distill_loss/decoder': 64.06034777978223, 'loss/total': 0.8290609651934839, 'task_loss_normalized': 0.8283487444152375, 'epoch': 0.0}\n",
    "# {'loss': 0.6493, 'grad_norm': 0.015107647515833378, 'learning_rate': 0.000995, 'epoch': 0.01}\n",
    "# {'task_loss': 5.0648600883483885, 'distill_loss/total': 0.37489737445116045, 'distill_loss/soft_targets': 6.149111506462098, 'distill_loss/encoder': 466.8735889892578, 'distill_loss/decoder': 50.13016744232178, 'loss/total': 0.6490713461637497, 'task_loss_normalized': 0.609275509595871, 'epoch': 0.01}\n",
    "# {'loss': 0.6003, 'grad_norm': 0.018570180982351303, 'learning_rate': 0.0009925000000000001, 'epoch': 0.01}\n",
    "# {'task_loss': 4.660446747303009, 'distill_loss/total': 0.34804710507392883, 'distill_loss/soft_targets': 5.726891023635864, 'distill_loss/encoder': 447.2676242675781, 'distill_loss/decoder': 42.26290394973755, 'loss/total': 0.600329136967659, 'task_loss_normalized': 0.5606267541050911, 'epoch': 0.01}\n",
    "#   1%|▎            "
   ]
  }
 ],
 "metadata": {
  "kernelspec": {
   "display_name": "chronos",
   "language": "python",
   "name": "python3"
  },
  "language_info": {
   "codemirror_mode": {
    "name": "ipython",
    "version": 3
   },
   "file_extension": ".py",
   "mimetype": "text/x-python",
   "name": "python",
   "nbconvert_exporter": "python",
   "pygments_lexer": "ipython3",
   "version": "3.10.16"
  }
 },
 "nbformat": 4,
 "nbformat_minor": 2
}
