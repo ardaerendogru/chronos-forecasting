{
 "cells": [
  {
   "cell_type": "code",
   "execution_count": 1,
   "metadata": {},
   "outputs": [
    {
     "name": "stderr",
     "output_type": "stream",
     "text": [
      "/home/arda/anaconda3/envs/chronos/lib/python3.10/site-packages/tqdm/auto.py:21: TqdmWarning: IProgress not found. Please update jupyter and ipywidgets. See https://ipywidgets.readthedocs.io/en/stable/user_install.html\n",
      "  from .autonotebook import tqdm as notebook_tqdm\n"
     ]
    }
   ],
   "source": [
    "import ast\n",
    "import logging\n",
    "import os\n",
    "import random\n",
    "from copy import deepcopy\n",
    "from functools import partial\n",
    "from pathlib import Path\n",
    "from typing import Dict, Optional\n",
    "\n",
    "import typer\n",
    "from typer_config import use_yaml_config\n",
    "import torch\n",
    "import torch.nn.functional as F\n",
    "import transformers\n",
    "from transformers import Trainer, TrainingArguments\n",
    "from gluonts.dataset.common import FileDataset\n",
    "\n",
    "from chronos import ChronosPipeline, ChronosConfig\n",
    "from train import (\n",
    "    ChronosDataset,\n",
    "    load_model,\n",
    "    get_next_path,\n",
    "    is_main_process,\n",
    "    log_on_main,\n",
    "    has_enough_observations,\n",
    "    Filter,\n",
    "    get_training_job_info,\n",
    "    save_training_info\n",
    ")"
   ]
  },
  {
   "cell_type": "code",
   "execution_count": 2,
   "metadata": {},
   "outputs": [],
   "source": [
    "teacher = ChronosPipeline.from_pretrained(\n",
    "    \"amazon/chronos-t5-mini\",\n",
    "    device_map=\"auto\",\n",
    "    torch_dtype=torch.float32\n",
    ")"
   ]
  },
  {
   "cell_type": "code",
   "execution_count": 4,
   "metadata": {},
   "outputs": [
    {
     "name": "stderr",
     "output_type": "stream",
     "text": [
      "2025-01-01 12:23:51,462 - /home/arda/Documents/chronos-forecasting/scripts/training/train.py - INFO - Using random initialization\n"
     ]
    }
   ],
   "source": [
    "student = load_model(\n",
    "    model_id=\"google/t5-efficient-mini\",\n",
    "    model_type=\"seq2seq\",\n",
    "    vocab_size=4096,\n",
    "    random_init=True,\n",
    "    tie_embeddings=True,\n",
    "    pad_token_id=0,\n",
    "    eos_token_id=1,\n",
    "    )\n",
    "    # Convert student model to same dtype as teacher\n",
    "student = student.to(dtype=torch.float32)"
   ]
  },
  {
   "cell_type": "code",
   "execution_count": null,
   "metadata": {},
   "outputs": [],
   "source": [
    "train_dataset = ChronosDataset(\n",
    "    datasets=[FileDataset(path=Path(\"data/m5/train.csv\"), freq=\"h\")],\n",
    "    probabilities=[1.0],\n",
    "    tokenizer=teacher.tokenizer,\n",
    "    context_length=100,\n",
    "    prediction_length=12,\n",
    "    min_past=100,\n",
    "    model_type=\"seq2seq\",\n",
    "    mode=\"training\",\n",
    ").shuffle(shuffle_buffer_length=1000)"
   ]
  }
 ],
 "metadata": {
  "kernelspec": {
   "display_name": "chronos",
   "language": "python",
   "name": "python3"
  },
  "language_info": {
   "codemirror_mode": {
    "name": "ipython",
    "version": 3
   },
   "file_extension": ".py",
   "mimetype": "text/x-python",
   "name": "python",
   "nbconvert_exporter": "python",
   "pygments_lexer": "ipython3",
   "version": "3.10.16"
  }
 },
 "nbformat": 4,
 "nbformat_minor": 2
}
